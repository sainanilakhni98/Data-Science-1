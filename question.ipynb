{
 "cells": [
  {
   "cell_type": "code",
   "execution_count": 1,
   "metadata": {},
   "outputs": [
    {
     "name": "stdout",
     "output_type": "stream",
     "text": [
      "Enter the value of n and k6 5\n",
      "Enter the array elements1 2 3 4 5 6\n",
      "3\n"
     ]
    }
   ],
   "source": [
    "n,k = list(map(int,input(\"Enter the value of n and k\").split()))\n",
    "ar = list(map(int,input(\"Enter the array elements\").split()))\n",
    "count = 0\n",
    "for i in range(len(ar)):\n",
    "    for j in range(i+1,len(ar)):\n",
    "        s=ar[i]+ar[j]\n",
    "        if s%k==0:\n",
    "            count+=1\n",
    "print(count)            "
   ]
  },
  {
   "cell_type": "code",
   "execution_count": 3,
   "metadata": {},
   "outputs": [
    {
     "name": "stdout",
     "output_type": "stream",
     "text": [
      "Enter the array elements2 3 4 5 6 7 8 9 10 1 2 3 4 5 6 7 8 9 10 11 12 13 14 15 16 16\n",
      "enter the string in lowercaseyogesh\n"
     ]
    }
   ],
   "source": [
    "ar = list(map(int,input(\"Enter the array elements\").split()))\n",
    "string = input(\"enter the string in lowercase\")\n",
    "l=len(string)\n",
    "#d={'a':ar[0],'b':ar[1],'c':ar[,'d':4,}\n",
    "l= [ chr(i) for i in range(97,123)]"
   ]
  },
  {
   "cell_type": "code",
   "execution_count": 11,
   "metadata": {},
   "outputs": [
    {
     "name": "stdout",
     "output_type": "stream",
     "text": [
      "Enter the array elements2 3 1 1 1 1 1 1 1 1 1 1 1 1 1 1 1 1 1 1 1 1 1 4 5 6\n",
      "enter the string in lowercaseyogeshz\n",
      "42\n"
     ]
    }
   ],
   "source": [
    "ar = list(map(int,input(\"Enter the array elements\").split()))\n",
    "string = input(\"enter the string in lowercase\")\n",
    "l= [ chr(i) for i in range(97,123)]\n",
    "d={}\n",
    "for i in range(26):\n",
    "    d[l[i]]=ar[i]\n",
    "length=len(string)\n",
    "m=d[string[0]]\n",
    "for i in range(1,len(string)):\n",
    "    if m<d[string[i]]:\n",
    "        m=d[string[i]]\n",
    "else:\n",
    "    print(m*length)\n",
    "    \n",
    "    "
   ]
  },
  {
   "cell_type": "code",
   "execution_count": 9,
   "metadata": {},
   "outputs": [
    {
     "data": {
      "text/plain": [
       "{'a': 2,\n",
       " 'b': 3,\n",
       " 'c': 4,\n",
       " 'd': 5,\n",
       " 'e': 6,\n",
       " 'f': 7,\n",
       " 'g': 8,\n",
       " 'h': 9,\n",
       " 'i': 10,\n",
       " 'j': 1,\n",
       " 'k': 2,\n",
       " 'l': 3,\n",
       " 'm': 4,\n",
       " 'n': 5,\n",
       " 'o': 6,\n",
       " 'p': 7,\n",
       " 'q': 8,\n",
       " 'r': 9,\n",
       " 's': 10,\n",
       " 't': 11,\n",
       " 'u': 12,\n",
       " 'v': 13,\n",
       " 'w': 14,\n",
       " 'x': 15,\n",
       " 'y': 16,\n",
       " 'z': 16}"
      ]
     },
     "execution_count": 9,
     "metadata": {},
     "output_type": "execute_result"
    }
   ],
   "source": [
    "d"
   ]
  },
  {
   "cell_type": "code",
   "execution_count": null,
   "metadata": {},
   "outputs": [],
   "source": []
  }
 ],
 "metadata": {
  "kernelspec": {
   "display_name": "Python 3",
   "language": "python",
   "name": "python3"
  },
  "language_info": {
   "codemirror_mode": {
    "name": "ipython",
    "version": 3
   },
   "file_extension": ".py",
   "mimetype": "text/x-python",
   "name": "python",
   "nbconvert_exporter": "python",
   "pygments_lexer": "ipython3",
   "version": "3.6.5"
  }
 },
 "nbformat": 4,
 "nbformat_minor": 2
}
